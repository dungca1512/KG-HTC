{
 "cells": [
  {
   "cell_type": "code",
   "execution_count": 4,
   "id": "8a6521a2",
   "metadata": {},
   "outputs": [
    {
     "name": "stdout",
     "output_type": "stream",
     "text": [
      "Thư mục hiện tại: /Users/dungca/Desktop/KG-HTC\n"
     ]
    }
   ],
   "source": [
    "import pandas as pd\n",
    "import os\n",
    "\n",
    "print(\"Thư mục hiện tại:\", os.getcwd())\n",
    "df_reviews = pd.read_excel('AI Agent_Research_Dữ liệu mẫu.xlsx', sheet_name=' Raw Review', engine='openpyxl')\n",
    "df_reviews['id'] = df_reviews.index + 1  # Tạo id bắt đầu từ 1\n",
    "df_reviews['tags_list'] = df_reviews['Tag'].str.split(',')\n",
    "df_review_tags = df_reviews.explode('tags_list').dropna(subset=['tags_list'])\n",
    "df_review_tags[['id', 'tags_list']].to_csv('review_tags.csv', index=False, header=['review_id', 'tag_name'])"
   ]
  }
 ],
 "metadata": {
  "kernelspec": {
   "display_name": "KG-HTC",
   "language": "python",
   "name": "python3"
  },
  "language_info": {
   "codemirror_mode": {
    "name": "ipython",
    "version": 3
   },
   "file_extension": ".py",
   "mimetype": "text/x-python",
   "name": "python",
   "nbconvert_exporter": "python",
   "pygments_lexer": "ipython3",
   "version": "3.13.5"
  }
 },
 "nbformat": 4,
 "nbformat_minor": 5
}
