{
 "cells": [
  {
   "cell_type": "code",
   "execution_count": 1,
   "id": "41012856",
   "metadata": {},
   "outputs": [],
   "source": [
    "import pandas as pd"
   ]
  },
  {
   "cell_type": "code",
   "execution_count": 2,
   "id": "ff6d78fb",
   "metadata": {},
   "outputs": [],
   "source": [
    "df = pd.read_excel('/Users/dungca/KG-HTC/code_review/dataset/Research_sample.xlsx')"
   ]
  },
  {
   "cell_type": "code",
   "execution_count": 3,
   "id": "a6b80bd5",
   "metadata": {},
   "outputs": [],
   "source": [
    "df2 = pd.DataFrame(columns=['text', 'type', 'category', 'tag'])"
   ]
  },
  {
   "cell_type": "code",
   "execution_count": 4,
   "id": "1dd8cefe",
   "metadata": {},
   "outputs": [],
   "source": [
    "df2['category'] = df['Category']\n",
    "df2['tag'] = df['Tag']\n",
    "df2['type'] = df['Type']\n",
    "df2['text'] = df['Content translate']\n",
    "df2.to_csv('/Users/dungca/KG-HTC/code_review/dataset/Research_sample.csv', index=False)"
   ]
  }
 ],
 "metadata": {
  "kernelspec": {
   "display_name": "KG-HTC",
   "language": "python",
   "name": "python3"
  },
  "language_info": {
   "codemirror_mode": {
    "name": "ipython",
    "version": 3
   },
   "file_extension": ".py",
   "mimetype": "text/x-python",
   "name": "python",
   "nbconvert_exporter": "python",
   "pygments_lexer": "ipython3",
   "version": "3.13.5"
  }
 },
 "nbformat": 4,
 "nbformat_minor": 5
}
